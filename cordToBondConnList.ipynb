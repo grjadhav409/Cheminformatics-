{
 "cells": [
  {
   "cell_type": "code",
   "execution_count": 3,
   "metadata": {},
   "outputs": [],
   "source": [
    "import numpy as np\n",
    "import math"
   ]
  },
  {
   "cell_type": "code",
   "execution_count": 2,
   "metadata": {},
   "outputs": [],
   "source": [
    "\n",
    "species = ['C','H','H','H','C','H','H','H']\n",
    "\n",
    "# input\n",
    "coordinates =[\n",
    "    [0.00000000  ,  0.00000000   , 0.77129800],\n",
    "    [ -0.50676600 ,   0.87777700  ,  1.15591600],\n",
    "    [1.01356000 ,  -0.00001600   , 1.15591600],\n",
    "    [ -0.50679400 ,  -0.87776100 ,   1.15591600],\n",
    "    [ 0.00000000 ,   0.00000000 ,  -0.77129800],\n",
    "    [  0.50676600 ,   0.87777700 ,  -1.15591600],\n",
    "    [ 0.50679400  , -0.87776100  , -1.15591600],\n",
    "    [ -1.01356000  , -0.00001600  , -1.15591600],\n",
    "]\n",
    "\n",
    "# output expected\n",
    "bond_connectivity_list = [\n",
    "    [1,2,3,4],\n",
    "    [0],\n",
    "    [0],\n",
    "    [0],\n",
    "    [5,6,7,1],\n",
    "    [4],\n",
    "    [4],\n",
    "    [4],\n",
    "]"
   ]
  },
  {
   "cell_type": "code",
   "execution_count": 11,
   "metadata": {},
   "outputs": [],
   "source": [
    "# convert to numpuy \n",
    "c = np.array(coordinates)"
   ]
  },
  {
   "cell_type": "code",
   "execution_count": 4,
   "metadata": {},
   "outputs": [],
   "source": [
    "# distance between two points in 3d Space\n",
    "def distance(a, b):\n",
    "        d = math.sqrt(math.pow(b[0] - a[0], 2) +\n",
    "                      math.pow(b[1] - a[1], 2) +\n",
    "                      math.pow(b[2] - a[2], 2) * 1.0)\n",
    "        return d"
   ]
  },
  {
   "cell_type": "code",
   "execution_count": 6,
   "metadata": {},
   "outputs": [
    {
     "data": {
      "text/plain": [
       "1.0840826750801804"
      ]
     },
     "execution_count": 6,
     "metadata": {},
     "output_type": "execute_result"
    }
   ],
   "source": [
    "distance( [0.00000000  ,  0.00000000   , 0.77129800],\n",
    "    [ -0.50676600 ,   0.87777700  ,  1.15591600])"
   ]
  },
  {
   "cell_type": "code",
   "execution_count": 13,
   "metadata": {},
   "outputs": [
    {
     "data": {
      "text/plain": [
       "[0.0,\n",
       " 1.0840826750801804,\n",
       " 1.0840825059837467,\n",
       " 1.0840828093282358,\n",
       " 1.542596,\n",
       " 2.177488930461186,\n",
       " 2.177488997297805,\n",
       " 2.177488846274993]"
      ]
     },
     "execution_count": 13,
     "metadata": {},
     "output_type": "execute_result"
    }
   ],
   "source": [
    "# distance from 0th atom\n",
    "l1 =[]\n",
    "for i in range(len(coordinates)):\n",
    "    a= c[0]\n",
    "    b = c[i]\n",
    "    l1.append(distance(a,b))\n",
    "\n",
    "l1"
   ]
  },
  {
   "cell_type": "code",
   "execution_count": 14,
   "metadata": {},
   "outputs": [
    {
     "data": {
      "text/plain": [
       "[1, 2, 3, 4]"
      ]
     },
     "execution_count": 14,
     "metadata": {},
     "output_type": "execute_result"
    }
   ],
   "source": [
    "# atoms connected to 0th atom\n",
    "l3 = []\n",
    "for i in range(len(l1)):\n",
    "    if l1[i]-l1[0] < 1.60:\n",
    "        l3.append(l1.index(l1[i]))\n",
    "        if l1.index(l1[0]) in  l3 :\n",
    "            l3.remove(l1.index(l1[0]))\n",
    "    else:\n",
    "        pass\n",
    "l3"
   ]
  },
  {
   "cell_type": "code",
   "execution_count": 16,
   "metadata": {},
   "outputs": [
    {
     "data": {
      "text/plain": [
       "[[0.0,\n",
       "  1.0840826750801804,\n",
       "  1.0840825059837467,\n",
       "  1.0840828093282358,\n",
       "  1.542596,\n",
       "  2.177488930461186,\n",
       "  2.177488997297805,\n",
       "  2.177488846274993],\n",
       " [1.0840826750801804,\n",
       "  0.0,\n",
       "  1.7555374382578688,\n",
       "  1.7555380002232934,\n",
       "  2.177488930461186,\n",
       "  2.524245295379987,\n",
       "  3.0747007560522044,\n",
       "  2.5242677959180555],\n",
       " [1.0840825059837467,\n",
       "  1.7555374382578688,\n",
       "  0.0,\n",
       "  1.7555376869611772,\n",
       "  2.177488846274993,\n",
       "  2.5242677959180555,\n",
       "  2.524245483308824,\n",
       "  3.074700422906921],\n",
       " [1.0840828093282358,\n",
       "  1.7555380002232934,\n",
       "  1.7555376869611772,\n",
       "  0.0,\n",
       "  2.177488997297805,\n",
       "  3.0747007560522044,\n",
       "  2.524267780955103,\n",
       "  2.524245483308824],\n",
       " [1.542596,\n",
       "  2.177488930461186,\n",
       "  2.177488846274993,\n",
       "  2.177488997297805,\n",
       "  0.0,\n",
       "  1.0840826750801804,\n",
       "  1.0840828093282358,\n",
       "  1.0840825059837467],\n",
       " [2.177488930461186,\n",
       "  2.524245295379987,\n",
       "  2.5242677959180555,\n",
       "  3.0747007560522044,\n",
       "  1.0840826750801804,\n",
       "  0.0,\n",
       "  1.7555380002232934,\n",
       "  1.7555374382578688],\n",
       " [2.177488997297805,\n",
       "  3.0747007560522044,\n",
       "  2.524245483308824,\n",
       "  2.524267780955103,\n",
       "  1.0840828093282358,\n",
       "  1.7555380002232934,\n",
       "  0.0,\n",
       "  1.7555376869611772],\n",
       " [2.177488846274993,\n",
       "  2.5242677959180555,\n",
       "  3.074700422906921,\n",
       "  2.524245483308824,\n",
       "  1.0840825059837467,\n",
       "  1.7555374382578688,\n",
       "  1.7555376869611772,\n",
       "  0.0]]"
      ]
     },
     "execution_count": 16,
     "metadata": {},
     "output_type": "execute_result"
    }
   ],
   "source": [
    "# lists of distances from all atoms from each atom in the molecule\n",
    "l11= []\n",
    "for j in range(len(coordinates)): \n",
    "    l6 =[]\n",
    "    for i in range(len(coordinates)):\n",
    "        a= c[j]\n",
    "        b = c[i]\n",
    "        l6.append(distance(a,b))\n",
    "    l11.append(l6)\n",
    "l11"
   ]
  },
  {
   "cell_type": "code",
   "execution_count": null,
   "metadata": {},
   "outputs": [],
   "source": [
    "# list of connected atoms \n",
    "\n",
    "def neigh_atoms(l1,from_atom):\n",
    "    int(from_atom)\n",
    "    l3= []\n",
    "    for i in range(len(l1)):\n",
    "        if l1[i]-l1[from_atom] < 1.60:\n",
    "            l3.append(l1.index(l1[i]))\n",
    "            if l1.index(l1[from_atom]) in  l3 :\n",
    "                l3.remove(l1.index(l1[from_atom]))\n",
    "        else:\n",
    "            pass\n",
    "    return l3"
   ]
  },
  {
   "cell_type": "code",
   "execution_count": 18,
   "metadata": {},
   "outputs": [
    {
     "data": {
      "text/plain": [
       "[1, 2, 3, 4]"
      ]
     },
     "execution_count": 18,
     "metadata": {},
     "output_type": "execute_result"
    }
   ],
   "source": [
    "neigh_atoms([0.0,\n",
    "  1.0840826750801804,\n",
    "  1.0840825059837467,\n",
    "  1.0840828093282358,\n",
    "  1.542596,\n",
    "  2.177488930461186,\n",
    "  2.177488997297805,\n",
    "  2.177488846274993],0)"
   ]
  },
  {
   "cell_type": "code",
   "execution_count": 19,
   "metadata": {},
   "outputs": [],
   "source": [
    "# atom connectivity list from coordinates\n",
    "def atoms_conn(coordinates):\n",
    "    l11= []\n",
    "    l12 =[]\n",
    "    for j in range(len(coordinates)): \n",
    "        l6 =[]\n",
    "        for i in range(len(coordinates)):\n",
    "            a= c[j]\n",
    "            b = c[i]\n",
    "            l6.append(distance(a,b))\n",
    "        l11.append(l6)\n",
    "    for i in l11:\n",
    "        l12.append(neigh_atoms(i, l11.index(i)))\n",
    "\n",
    "    return l12"
   ]
  },
  {
   "cell_type": "code",
   "execution_count": 21,
   "metadata": {},
   "outputs": [
    {
     "data": {
      "text/plain": [
       "[[1, 2, 3, 4], [0], [0], [0], [0, 5, 6, 7], [4], [4], [4]]"
      ]
     },
     "execution_count": 21,
     "metadata": {},
     "output_type": "execute_result"
    }
   ],
   "source": [
    "atoms_conn(coordinates)"
   ]
  }
 ],
 "metadata": {
  "kernelspec": {
   "display_name": "Python 3.8.13",
   "language": "python",
   "name": "python3"
  },
  "language_info": {
   "codemirror_mode": {
    "name": "ipython",
    "version": 3
   },
   "file_extension": ".py",
   "mimetype": "text/x-python",
   "name": "python",
   "nbconvert_exporter": "python",
   "pygments_lexer": "ipython3",
   "version": "3.8.13"
  },
  "orig_nbformat": 4,
  "vscode": {
   "interpreter": {
    "hash": "aea2f22824247d7149d174030597b6ffced35fb3c0f329aef1e0a9eb0b1eed96"
   }
  }
 },
 "nbformat": 4,
 "nbformat_minor": 2
}
